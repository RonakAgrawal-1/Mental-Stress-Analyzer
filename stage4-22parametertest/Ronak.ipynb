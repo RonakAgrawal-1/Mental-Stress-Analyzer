{
  "nbformat": 4,
  "nbformat_minor": 0,
  "metadata": {
    "colab": {
      "name": "Ronak.ipynb",
      "provenance": []
    },
    "kernelspec": {
      "name": "python3",
      "display_name": "Python 3"
    },
    "language_info": {
      "name": "python"
    }
  },
  "cells": [
    {
      "cell_type": "code",
      "metadata": {
        "colab": {
          "base_uri": "https://localhost:8080/",
          "height": 261
        },
        "id": "pzmmzfFCRXo-",
        "outputId": "b5361b74-3815-4cf2-8a11-cb2eb6ac4264"
      },
      "source": [
        "import pandas as pd\n",
        "import numpy as np\n",
        "df=pd.read_csv('xyz.csv')\n",
        "df.head()"
      ],
      "execution_count": 1,
      "outputs": [
        {
          "output_type": "execute_result",
          "data": {
            "text/html": [
              "<div>\n",
              "<style scoped>\n",
              "    .dataframe tbody tr th:only-of-type {\n",
              "        vertical-align: middle;\n",
              "    }\n",
              "\n",
              "    .dataframe tbody tr th {\n",
              "        vertical-align: top;\n",
              "    }\n",
              "\n",
              "    .dataframe thead th {\n",
              "        text-align: right;\n",
              "    }\n",
              "</style>\n",
              "<table border=\"1\" class=\"dataframe\">\n",
              "  <thead>\n",
              "    <tr style=\"text-align: right;\">\n",
              "      <th></th>\n",
              "      <th>working hours</th>\n",
              "      <th>Sedentary</th>\n",
              "      <th>Aches/Pains</th>\n",
              "      <th>Low Energy</th>\n",
              "      <th>BMI</th>\n",
              "      <th>Frequent cold</th>\n",
              "      <th>upset stomach</th>\n",
              "      <th>Cardio</th>\n",
              "      <th>Minutes Lightly Active</th>\n",
              "      <th>Calories</th>\n",
              "      <th>Stress Level</th>\n",
              "      <th>Resting Heart Rate</th>\n",
              "      <th>Fat Burn</th>\n",
              "      <th>Mood Level</th>\n",
              "      <th>Number of Awakenings</th>\n",
              "      <th>Calories.1</th>\n",
              "      <th>Time in bed</th>\n",
              "      <th>Activity Calories</th>\n",
              "      <th>Minutes Very Active</th>\n",
              "      <th>Minutes farely active</th>\n",
              "      <th>Distance travelled</th>\n",
              "      <th>Minutes Awake</th>\n",
              "      <th>Output</th>\n",
              "    </tr>\n",
              "  </thead>\n",
              "  <tbody>\n",
              "    <tr>\n",
              "      <th>0</th>\n",
              "      <td>44</td>\n",
              "      <td>1.355</td>\n",
              "      <td>35</td>\n",
              "      <td>4</td>\n",
              "      <td>23.4</td>\n",
              "      <td>1</td>\n",
              "      <td>1</td>\n",
              "      <td>0.333333</td>\n",
              "      <td>61.0</td>\n",
              "      <td>0.7865</td>\n",
              "      <td>200</td>\n",
              "      <td>95</td>\n",
              "      <td>0.123</td>\n",
              "      <td>100</td>\n",
              "      <td>3</td>\n",
              "      <td>1727</td>\n",
              "      <td>5</td>\n",
              "      <td>1699</td>\n",
              "      <td>60.5</td>\n",
              "      <td>60</td>\n",
              "      <td>112</td>\n",
              "      <td>1140</td>\n",
              "      <td>0</td>\n",
              "    </tr>\n",
              "    <tr>\n",
              "      <th>1</th>\n",
              "      <td>57</td>\n",
              "      <td>611.000</td>\n",
              "      <td>24</td>\n",
              "      <td>3</td>\n",
              "      <td>29.4</td>\n",
              "      <td>5</td>\n",
              "      <td>1</td>\n",
              "      <td>0.133333</td>\n",
              "      <td>14.0</td>\n",
              "      <td>0.7865</td>\n",
              "      <td>100</td>\n",
              "      <td>91</td>\n",
              "      <td>0.061</td>\n",
              "      <td>50</td>\n",
              "      <td>4</td>\n",
              "      <td>2132</td>\n",
              "      <td>8</td>\n",
              "      <td>1775</td>\n",
              "      <td>45.5</td>\n",
              "      <td>77</td>\n",
              "      <td>75</td>\n",
              "      <td>960</td>\n",
              "      <td>1</td>\n",
              "    </tr>\n",
              "    <tr>\n",
              "      <th>2</th>\n",
              "      <td>44</td>\n",
              "      <td>602.000</td>\n",
              "      <td>24</td>\n",
              "      <td>3</td>\n",
              "      <td>24.4</td>\n",
              "      <td>5</td>\n",
              "      <td>1</td>\n",
              "      <td>0.116667</td>\n",
              "      <td>23.0</td>\n",
              "      <td>0.7865</td>\n",
              "      <td>100</td>\n",
              "      <td>93</td>\n",
              "      <td>0.253</td>\n",
              "      <td>50</td>\n",
              "      <td>5</td>\n",
              "      <td>1908</td>\n",
              "      <td>5</td>\n",
              "      <td>1261</td>\n",
              "      <td>13.5</td>\n",
              "      <td>4</td>\n",
              "      <td>66</td>\n",
              "      <td>1140</td>\n",
              "      <td>1</td>\n",
              "    </tr>\n",
              "    <tr>\n",
              "      <th>3</th>\n",
              "      <td>58</td>\n",
              "      <td>749.000</td>\n",
              "      <td>33</td>\n",
              "      <td>3</td>\n",
              "      <td>30.9</td>\n",
              "      <td>5</td>\n",
              "      <td>1</td>\n",
              "      <td>0.000000</td>\n",
              "      <td>23.0</td>\n",
              "      <td>0.7865</td>\n",
              "      <td>100</td>\n",
              "      <td>94</td>\n",
              "      <td>0.104</td>\n",
              "      <td>50</td>\n",
              "      <td>2</td>\n",
              "      <td>2159</td>\n",
              "      <td>4</td>\n",
              "      <td>1282</td>\n",
              "      <td>28.0</td>\n",
              "      <td>33</td>\n",
              "      <td>85</td>\n",
              "      <td>1200</td>\n",
              "      <td>0</td>\n",
              "    </tr>\n",
              "    <tr>\n",
              "      <th>4</th>\n",
              "      <td>40</td>\n",
              "      <td>876.000</td>\n",
              "      <td>32</td>\n",
              "      <td>2</td>\n",
              "      <td>44.1</td>\n",
              "      <td>5</td>\n",
              "      <td>1</td>\n",
              "      <td>0.000000</td>\n",
              "      <td>34.0</td>\n",
              "      <td>0.7865</td>\n",
              "      <td>200</td>\n",
              "      <td>93</td>\n",
              "      <td>0.287</td>\n",
              "      <td>100</td>\n",
              "      <td>3</td>\n",
              "      <td>2256</td>\n",
              "      <td>5</td>\n",
              "      <td>1613</td>\n",
              "      <td>26.0</td>\n",
              "      <td>18</td>\n",
              "      <td>47</td>\n",
              "      <td>1140</td>\n",
              "      <td>0</td>\n",
              "    </tr>\n",
              "  </tbody>\n",
              "</table>\n",
              "</div>"
            ],
            "text/plain": [
              "   working hours  Sedentary  ...  Minutes Awake  Output\n",
              "0             44      1.355  ...           1140       0\n",
              "1             57    611.000  ...            960       1\n",
              "2             44    602.000  ...           1140       1\n",
              "3             58    749.000  ...           1200       0\n",
              "4             40    876.000  ...           1140       0\n",
              "\n",
              "[5 rows x 23 columns]"
            ]
          },
          "metadata": {},
          "execution_count": 1
        }
      ]
    },
    {
      "cell_type": "code",
      "metadata": {
        "id": "haTL4MnQaL1x"
      },
      "source": [
        "def clean_dataset(df):\n",
        "    assert isinstance(df, pd.DataFrame), \"df needs to be a pd.DataFrame\"\n",
        "    df.dropna(inplace=True)\n",
        "    indices_to_keep = ~df.isin([np.nan, np.inf, -np.inf]).any(1)\n",
        "    return df[indices_to_keep].astype(np.float64)"
      ],
      "execution_count": 2,
      "outputs": []
    },
    {
      "cell_type": "code",
      "metadata": {
        "colab": {
          "base_uri": "https://localhost:8080/",
          "height": 478
        },
        "id": "OvHctQxHaNS_",
        "outputId": "4b0bb7b1-39e2-492f-9fde-eb28acfedbf4"
      },
      "source": [
        "clean_dataset(df)"
      ],
      "execution_count": 3,
      "outputs": [
        {
          "output_type": "execute_result",
          "data": {
            "text/html": [
              "<div>\n",
              "<style scoped>\n",
              "    .dataframe tbody tr th:only-of-type {\n",
              "        vertical-align: middle;\n",
              "    }\n",
              "\n",
              "    .dataframe tbody tr th {\n",
              "        vertical-align: top;\n",
              "    }\n",
              "\n",
              "    .dataframe thead th {\n",
              "        text-align: right;\n",
              "    }\n",
              "</style>\n",
              "<table border=\"1\" class=\"dataframe\">\n",
              "  <thead>\n",
              "    <tr style=\"text-align: right;\">\n",
              "      <th></th>\n",
              "      <th>working hours</th>\n",
              "      <th>Sedentary</th>\n",
              "      <th>Aches/Pains</th>\n",
              "      <th>Low Energy</th>\n",
              "      <th>BMI</th>\n",
              "      <th>Frequent cold</th>\n",
              "      <th>upset stomach</th>\n",
              "      <th>Cardio</th>\n",
              "      <th>Minutes Lightly Active</th>\n",
              "      <th>Calories</th>\n",
              "      <th>Stress Level</th>\n",
              "      <th>Resting Heart Rate</th>\n",
              "      <th>Fat Burn</th>\n",
              "      <th>Mood Level</th>\n",
              "      <th>Number of Awakenings</th>\n",
              "      <th>Calories.1</th>\n",
              "      <th>Time in bed</th>\n",
              "      <th>Activity Calories</th>\n",
              "      <th>Minutes Very Active</th>\n",
              "      <th>Minutes farely active</th>\n",
              "      <th>Distance travelled</th>\n",
              "      <th>Minutes Awake</th>\n",
              "      <th>Output</th>\n",
              "    </tr>\n",
              "  </thead>\n",
              "  <tbody>\n",
              "    <tr>\n",
              "      <th>0</th>\n",
              "      <td>44.0</td>\n",
              "      <td>1.355</td>\n",
              "      <td>35.0</td>\n",
              "      <td>4.0</td>\n",
              "      <td>23.4</td>\n",
              "      <td>1.0</td>\n",
              "      <td>1.0</td>\n",
              "      <td>0.333333</td>\n",
              "      <td>61.0</td>\n",
              "      <td>0.7865</td>\n",
              "      <td>200.0</td>\n",
              "      <td>95.0</td>\n",
              "      <td>0.123</td>\n",
              "      <td>100.0</td>\n",
              "      <td>3.0</td>\n",
              "      <td>1727.0</td>\n",
              "      <td>5.0</td>\n",
              "      <td>1699.0</td>\n",
              "      <td>60.5</td>\n",
              "      <td>60.0</td>\n",
              "      <td>112.0</td>\n",
              "      <td>1140.0</td>\n",
              "      <td>0.0</td>\n",
              "    </tr>\n",
              "    <tr>\n",
              "      <th>1</th>\n",
              "      <td>57.0</td>\n",
              "      <td>611.000</td>\n",
              "      <td>24.0</td>\n",
              "      <td>3.0</td>\n",
              "      <td>29.4</td>\n",
              "      <td>5.0</td>\n",
              "      <td>1.0</td>\n",
              "      <td>0.133333</td>\n",
              "      <td>14.0</td>\n",
              "      <td>0.7865</td>\n",
              "      <td>100.0</td>\n",
              "      <td>91.0</td>\n",
              "      <td>0.061</td>\n",
              "      <td>50.0</td>\n",
              "      <td>4.0</td>\n",
              "      <td>2132.0</td>\n",
              "      <td>8.0</td>\n",
              "      <td>1775.0</td>\n",
              "      <td>45.5</td>\n",
              "      <td>77.0</td>\n",
              "      <td>75.0</td>\n",
              "      <td>960.0</td>\n",
              "      <td>1.0</td>\n",
              "    </tr>\n",
              "    <tr>\n",
              "      <th>2</th>\n",
              "      <td>44.0</td>\n",
              "      <td>602.000</td>\n",
              "      <td>24.0</td>\n",
              "      <td>3.0</td>\n",
              "      <td>24.4</td>\n",
              "      <td>5.0</td>\n",
              "      <td>1.0</td>\n",
              "      <td>0.116667</td>\n",
              "      <td>23.0</td>\n",
              "      <td>0.7865</td>\n",
              "      <td>100.0</td>\n",
              "      <td>93.0</td>\n",
              "      <td>0.253</td>\n",
              "      <td>50.0</td>\n",
              "      <td>5.0</td>\n",
              "      <td>1908.0</td>\n",
              "      <td>5.0</td>\n",
              "      <td>1261.0</td>\n",
              "      <td>13.5</td>\n",
              "      <td>4.0</td>\n",
              "      <td>66.0</td>\n",
              "      <td>1140.0</td>\n",
              "      <td>1.0</td>\n",
              "    </tr>\n",
              "    <tr>\n",
              "      <th>3</th>\n",
              "      <td>58.0</td>\n",
              "      <td>749.000</td>\n",
              "      <td>33.0</td>\n",
              "      <td>3.0</td>\n",
              "      <td>30.9</td>\n",
              "      <td>5.0</td>\n",
              "      <td>1.0</td>\n",
              "      <td>0.000000</td>\n",
              "      <td>23.0</td>\n",
              "      <td>0.7865</td>\n",
              "      <td>100.0</td>\n",
              "      <td>94.0</td>\n",
              "      <td>0.104</td>\n",
              "      <td>50.0</td>\n",
              "      <td>2.0</td>\n",
              "      <td>2159.0</td>\n",
              "      <td>4.0</td>\n",
              "      <td>1282.0</td>\n",
              "      <td>28.0</td>\n",
              "      <td>33.0</td>\n",
              "      <td>85.0</td>\n",
              "      <td>1200.0</td>\n",
              "      <td>0.0</td>\n",
              "    </tr>\n",
              "    <tr>\n",
              "      <th>4</th>\n",
              "      <td>40.0</td>\n",
              "      <td>876.000</td>\n",
              "      <td>32.0</td>\n",
              "      <td>2.0</td>\n",
              "      <td>44.1</td>\n",
              "      <td>5.0</td>\n",
              "      <td>1.0</td>\n",
              "      <td>0.000000</td>\n",
              "      <td>34.0</td>\n",
              "      <td>0.7865</td>\n",
              "      <td>200.0</td>\n",
              "      <td>93.0</td>\n",
              "      <td>0.287</td>\n",
              "      <td>100.0</td>\n",
              "      <td>3.0</td>\n",
              "      <td>2256.0</td>\n",
              "      <td>5.0</td>\n",
              "      <td>1613.0</td>\n",
              "      <td>26.0</td>\n",
              "      <td>18.0</td>\n",
              "      <td>47.0</td>\n",
              "      <td>1140.0</td>\n",
              "      <td>0.0</td>\n",
              "    </tr>\n",
              "    <tr>\n",
              "      <th>...</th>\n",
              "      <td>...</td>\n",
              "      <td>...</td>\n",
              "      <td>...</td>\n",
              "      <td>...</td>\n",
              "      <td>...</td>\n",
              "      <td>...</td>\n",
              "      <td>...</td>\n",
              "      <td>...</td>\n",
              "      <td>...</td>\n",
              "      <td>...</td>\n",
              "      <td>...</td>\n",
              "      <td>...</td>\n",
              "      <td>...</td>\n",
              "      <td>...</td>\n",
              "      <td>...</td>\n",
              "      <td>...</td>\n",
              "      <td>...</td>\n",
              "      <td>...</td>\n",
              "      <td>...</td>\n",
              "      <td>...</td>\n",
              "      <td>...</td>\n",
              "      <td>...</td>\n",
              "      <td>...</td>\n",
              "    </tr>\n",
              "    <tr>\n",
              "      <th>143</th>\n",
              "      <td>57.0</td>\n",
              "      <td>826.000</td>\n",
              "      <td>37.0</td>\n",
              "      <td>5.0</td>\n",
              "      <td>25.8</td>\n",
              "      <td>3.0</td>\n",
              "      <td>2.0</td>\n",
              "      <td>0.000000</td>\n",
              "      <td>54.0</td>\n",
              "      <td>0.7865</td>\n",
              "      <td>200.0</td>\n",
              "      <td>87.0</td>\n",
              "      <td>0.094</td>\n",
              "      <td>100.0</td>\n",
              "      <td>5.0</td>\n",
              "      <td>2184.0</td>\n",
              "      <td>8.0</td>\n",
              "      <td>1357.0</td>\n",
              "      <td>34.5</td>\n",
              "      <td>15.0</td>\n",
              "      <td>140.0</td>\n",
              "      <td>960.0</td>\n",
              "      <td>1.0</td>\n",
              "    </tr>\n",
              "    <tr>\n",
              "      <th>144</th>\n",
              "      <td>63.0</td>\n",
              "      <td>789.000</td>\n",
              "      <td>29.0</td>\n",
              "      <td>4.0</td>\n",
              "      <td>23.7</td>\n",
              "      <td>3.0</td>\n",
              "      <td>2.0</td>\n",
              "      <td>0.350000</td>\n",
              "      <td>26.0</td>\n",
              "      <td>0.7865</td>\n",
              "      <td>200.0</td>\n",
              "      <td>87.0</td>\n",
              "      <td>0.103</td>\n",
              "      <td>100.0</td>\n",
              "      <td>3.0</td>\n",
              "      <td>1839.0</td>\n",
              "      <td>6.0</td>\n",
              "      <td>1471.0</td>\n",
              "      <td>15.5</td>\n",
              "      <td>5.0</td>\n",
              "      <td>100.0</td>\n",
              "      <td>1080.0</td>\n",
              "      <td>1.0</td>\n",
              "    </tr>\n",
              "    <tr>\n",
              "      <th>145</th>\n",
              "      <td>43.0</td>\n",
              "      <td>711.000</td>\n",
              "      <td>40.0</td>\n",
              "      <td>5.0</td>\n",
              "      <td>23.7</td>\n",
              "      <td>3.0</td>\n",
              "      <td>2.0</td>\n",
              "      <td>0.000000</td>\n",
              "      <td>40.0</td>\n",
              "      <td>0.7865</td>\n",
              "      <td>200.0</td>\n",
              "      <td>86.0</td>\n",
              "      <td>0.142</td>\n",
              "      <td>100.0</td>\n",
              "      <td>5.0</td>\n",
              "      <td>1869.0</td>\n",
              "      <td>4.0</td>\n",
              "      <td>1314.0</td>\n",
              "      <td>24.5</td>\n",
              "      <td>9.0</td>\n",
              "      <td>100.0</td>\n",
              "      <td>1200.0</td>\n",
              "      <td>0.0</td>\n",
              "    </tr>\n",
              "    <tr>\n",
              "      <th>146</th>\n",
              "      <td>39.0</td>\n",
              "      <td>667.000</td>\n",
              "      <td>26.0</td>\n",
              "      <td>5.0</td>\n",
              "      <td>38.3</td>\n",
              "      <td>3.0</td>\n",
              "      <td>2.0</td>\n",
              "      <td>0.000000</td>\n",
              "      <td>43.0</td>\n",
              "      <td>0.7865</td>\n",
              "      <td>300.0</td>\n",
              "      <td>86.0</td>\n",
              "      <td>0.192</td>\n",
              "      <td>150.0</td>\n",
              "      <td>5.0</td>\n",
              "      <td>2243.0</td>\n",
              "      <td>10.0</td>\n",
              "      <td>1734.0</td>\n",
              "      <td>34.0</td>\n",
              "      <td>25.0</td>\n",
              "      <td>100.0</td>\n",
              "      <td>840.0</td>\n",
              "      <td>1.0</td>\n",
              "    </tr>\n",
              "    <tr>\n",
              "      <th>147</th>\n",
              "      <td>39.0</td>\n",
              "      <td>801.000</td>\n",
              "      <td>24.0</td>\n",
              "      <td>5.0</td>\n",
              "      <td>30.3</td>\n",
              "      <td>3.0</td>\n",
              "      <td>2.0</td>\n",
              "      <td>0.000000</td>\n",
              "      <td>41.0</td>\n",
              "      <td>0.7865</td>\n",
              "      <td>200.0</td>\n",
              "      <td>82.0</td>\n",
              "      <td>0.296</td>\n",
              "      <td>100.0</td>\n",
              "      <td>3.0</td>\n",
              "      <td>1869.0</td>\n",
              "      <td>8.0</td>\n",
              "      <td>1433.0</td>\n",
              "      <td>25.0</td>\n",
              "      <td>9.0</td>\n",
              "      <td>80.0</td>\n",
              "      <td>960.0</td>\n",
              "      <td>0.0</td>\n",
              "    </tr>\n",
              "  </tbody>\n",
              "</table>\n",
              "<p>148 rows × 23 columns</p>\n",
              "</div>"
            ],
            "text/plain": [
              "     working hours  Sedentary  ...  Minutes Awake  Output\n",
              "0             44.0      1.355  ...         1140.0     0.0\n",
              "1             57.0    611.000  ...          960.0     1.0\n",
              "2             44.0    602.000  ...         1140.0     1.0\n",
              "3             58.0    749.000  ...         1200.0     0.0\n",
              "4             40.0    876.000  ...         1140.0     0.0\n",
              "..             ...        ...  ...            ...     ...\n",
              "143           57.0    826.000  ...          960.0     1.0\n",
              "144           63.0    789.000  ...         1080.0     1.0\n",
              "145           43.0    711.000  ...         1200.0     0.0\n",
              "146           39.0    667.000  ...          840.0     1.0\n",
              "147           39.0    801.000  ...          960.0     0.0\n",
              "\n",
              "[148 rows x 23 columns]"
            ]
          },
          "metadata": {},
          "execution_count": 3
        }
      ]
    },
    {
      "cell_type": "code",
      "metadata": {
        "colab": {
          "base_uri": "https://localhost:8080/",
          "height": 296
        },
        "id": "V1JlEFZARh-t",
        "outputId": "b39070d0-b2be-47e9-8b6f-58c99e9fc9a9"
      },
      "source": [
        "import seaborn as sns\n",
        "sns.countplot(x='Output',data=df)"
      ],
      "execution_count": 4,
      "outputs": [
        {
          "output_type": "execute_result",
          "data": {
            "text/plain": [
              "<matplotlib.axes._subplots.AxesSubplot at 0x7f6b20076890>"
            ]
          },
          "metadata": {},
          "execution_count": 4
        },
        {
          "output_type": "display_data",
          "data": {
            "image/png": "[encoded data removed]",
            "text/plain": [
              "<Figure size 432x288 with 1 Axes>"
            ]
          },
          "metadata": {
            "needs_background": "light"
          }
        }
      ]
    },
    {
      "cell_type": "code",
      "metadata": {
        "colab": {
          "base_uri": "https://localhost:8080/"
        },
        "id": "DZkvSjgsSguC",
        "outputId": "abf8bda6-f440-401c-97f1-0e7c9e61f068"
      },
      "source": [
        "df.shape"
      ],
      "execution_count": 5,
      "outputs": [
        {
          "output_type": "execute_result",
          "data": {
            "text/plain": [
              "(148, 23)"
            ]
          },
          "metadata": {},
          "execution_count": 5
        }
      ]
    },
    {
      "cell_type": "code",
      "metadata": {
        "id": "YV4YrsDTSndn"
      },
      "source": [
        "from sklearn.model_selection import train_test_split"
      ],
      "execution_count": 6,
      "outputs": []
    },
    {
      "cell_type": "code",
      "metadata": {
        "id": "2l0npSRqTZd6"
      },
      "source": [
        "X = df.iloc[:, :-1].values\n",
        "y = df.iloc[:, -1].values"
      ],
      "execution_count": 7,
      "outputs": []
    },
    {
      "cell_type": "code",
      "metadata": {
        "colab": {
          "base_uri": "https://localhost:8080/"
        },
        "id": "sJXCxoZJT0t3",
        "outputId": "2acaebfc-e0cc-48e2-aa85-7bbaa4e33db0"
      },
      "source": [
        "X"
      ],
      "execution_count": 8,
      "outputs": [
        {
          "output_type": "execute_result",
          "data": {
            "text/plain": [
              "array([[  44.   ,    1.355,   35.   , ...,   60.   ,  112.   , 1140.   ],\n",
              "       [  57.   ,  611.   ,   24.   , ...,   77.   ,   75.   ,  960.   ],\n",
              "       [  44.   ,  602.   ,   24.   , ...,    4.   ,   66.   , 1140.   ],\n",
              "       ...,\n",
              "       [  43.   ,  711.   ,   40.   , ...,    9.   ,  100.   , 1200.   ],\n",
              "       [  39.   ,  667.   ,   26.   , ...,   25.   ,  100.   ,  840.   ],\n",
              "       [  39.   ,  801.   ,   24.   , ...,    9.   ,   80.   ,  960.   ]])"
            ]
          },
          "metadata": {},
          "execution_count": 8
        }
      ]
    },
    {
      "cell_type": "code",
      "metadata": {
        "colab": {
          "base_uri": "https://localhost:8080/"
        },
        "id": "4FlhmvDcT8UP",
        "outputId": "ac805a7a-2b19-4fa6-c0a5-3b91760f0e1c"
      },
      "source": [
        "y"
      ],
      "execution_count": 9,
      "outputs": [
        {
          "output_type": "execute_result",
          "data": {
            "text/plain": [
              "array([0, 1, 1, 0, 0, 0, 0, 1, 0, 1, 1, 1, 0, 0, 1, 1, 0, 1, 1, 1, 0, 1,\n",
              "       0, 0, 1, 1, 0, 0, 1, 1, 0, 0, 0, 1, 1, 1, 1, 0, 0, 0, 0, 0, 1, 0,\n",
              "       0, 0, 0, 1, 1, 1, 1, 0, 1, 1, 0, 0, 0, 0, 1, 1, 1, 1, 0, 1, 0, 0,\n",
              "       0, 0, 1, 1, 1, 1, 1, 0, 0, 0, 1, 0, 0, 1, 0, 1, 0, 0, 1, 0, 1, 0,\n",
              "       1, 0, 1, 1, 0, 0, 1, 0, 0, 0, 1, 0, 1, 0, 0, 1, 0, 0, 1, 1, 1, 1,\n",
              "       0, 1, 1, 1, 1, 1, 0, 1, 0, 1, 0, 1, 1, 0, 1, 0, 0, 0, 1, 1, 0, 0,\n",
              "       0, 1, 0, 0, 0, 0, 1, 1, 0, 1, 0, 1, 1, 0, 1, 0])"
            ]
          },
          "metadata": {},
          "execution_count": 9
        }
      ]
    },
    {
      "cell_type": "code",
      "metadata": {
        "id": "feupH1wbSxfE"
      },
      "source": [
        "from sklearn.model_selection import train_test_split\n",
        "X_train, X_test, y_train, y_test = train_test_split(X, y, test_size = 0.25, random_state = 0)"
      ],
      "execution_count": 10,
      "outputs": []
    },
    {
      "cell_type": "code",
      "metadata": {
        "colab": {
          "base_uri": "https://localhost:8080/"
        },
        "id": "th_T1Ph8UHlB",
        "outputId": "bdcbee94-44ad-4fa9-9487-fdd148fabd76"
      },
      "source": [
        "y_train"
      ],
      "execution_count": 11,
      "outputs": [
        {
          "output_type": "execute_result",
          "data": {
            "text/plain": [
              "array([0, 1, 0, 1, 0, 1, 1, 0, 1, 1, 0, 0, 0, 1, 1, 0, 0, 1, 0, 1, 1, 1,\n",
              "       1, 0, 1, 0, 0, 0, 0, 1, 0, 1, 1, 0, 0, 0, 0, 1, 0, 0, 0, 1, 0, 0,\n",
              "       1, 1, 1, 0, 0, 1, 1, 0, 1, 0, 1, 1, 0, 0, 1, 1, 1, 0, 1, 1, 0, 0,\n",
              "       1, 0, 0, 0, 1, 0, 1, 0, 0, 0, 1, 1, 1, 1, 0, 1, 0, 0, 0, 0, 0, 1,\n",
              "       1, 1, 0, 1, 1, 1, 0, 1, 1, 1, 0, 0, 1, 1, 1, 0, 1, 1, 1, 1, 0, 1,\n",
              "       1])"
            ]
          },
          "metadata": {},
          "execution_count": 11
        }
      ]
    },
    {
      "cell_type": "code",
      "metadata": {
        "colab": {
          "base_uri": "https://localhost:8080/"
        },
        "id": "LkJsdrroUTAU",
        "outputId": "266b8700-2e8f-4879-ba83-02ce7ea22673"
      },
      "source": [
        "y_test"
      ],
      "execution_count": 12,
      "outputs": [
        {
          "output_type": "execute_result",
          "data": {
            "text/plain": [
              "array([1, 1, 0, 1, 0, 0, 0, 0, 0, 1, 1, 0, 0, 0, 1, 0, 0, 0, 0, 0, 0, 1,\n",
              "       0, 1, 1, 0, 0, 1, 0, 0, 1, 0, 1, 0, 1, 0, 1])"
            ]
          },
          "metadata": {},
          "execution_count": 12
        }
      ]
    },
    {
      "cell_type": "code",
      "metadata": {
        "colab": {
          "base_uri": "https://localhost:8080/"
        },
        "id": "hUTHSiPIUUgp",
        "outputId": "a88a8383-60a8-4cec-f989-cfe5c2d43da9"
      },
      "source": [
        "X_train"
      ],
      "execution_count": 13,
      "outputs": [
        {
          "output_type": "execute_result",
          "data": {
            "text/plain": [
              "array([[3.900e+01, 1.092e+00, 3.700e+01, ..., 6.000e+00, 4.200e+01,\n",
              "        1.140e+03],\n",
              "       [3.900e+01, 9.360e+02, 3.800e+01, ..., 5.400e+01, 8.500e+01,\n",
              "        9.600e+02],\n",
              "       [2.900e+01, 9.400e+02, 3.200e+01, ..., 5.700e+01, 9.500e+01,\n",
              "        9.600e+02],\n",
              "       ...,\n",
              "       [6.500e+01, 7.400e+02, 3.100e+01, ..., 5.400e+01, 8.500e+01,\n",
              "        1.140e+03],\n",
              "       [2.900e+01, 7.700e+02, 3.900e+01, ..., 5.100e+01, 2.100e+01,\n",
              "        9.600e+02],\n",
              "       [3.900e+01, 6.210e+02, 3.900e+01, ..., 2.000e+01, 9.400e+01,\n",
              "        1.140e+03]])"
            ]
          },
          "metadata": {},
          "execution_count": 13
        }
      ]
    },
    {
      "cell_type": "code",
      "metadata": {
        "colab": {
          "base_uri": "https://localhost:8080/"
        },
        "id": "fOLMaD2mUV8W",
        "outputId": "4b3288cf-5389-4791-b487-7d7111b6ed58"
      },
      "source": [
        "X_test"
      ],
      "execution_count": 14,
      "outputs": [
        {
          "output_type": "execute_result",
          "data": {
            "text/plain": [
              "array([[4.90000000e+01, 5.86000000e+02, 2.20000000e+01, 3.00000000e+00,\n",
              "        2.37000000e+01, 5.00000000e+00, 3.00000000e+00, 2.33333000e-01,\n",
              "        1.50000000e+01, 9.43799973e-01, 2.00000000e+02, 6.00000000e+01,\n",
              "        1.40000000e-01, 1.00000000e+02, 5.00000000e+00, 1.91500000e+03,\n",
              "        5.00000000e+00, 1.45400000e+03, 5.40000000e+01, 9.30000000e+01,\n",
              "        1.13000000e+02, 1.14000000e+03],\n",
              "       [3.90000000e+01, 8.01000000e+02, 2.40000000e+01, 3.00000000e+00,\n",
              "        1.88000000e+01, 5.00000000e+00, 1.00000000e+00, 0.00000000e+00,\n",
              "        1.01000000e+02, 9.43799973e-01, 1.00000000e+02, 8.30000000e+01,\n",
              "        1.24000000e-01, 5.00000000e+01, 5.00000000e+00, 2.04000000e+03,\n",
              "        7.00000000e+00, 1.51600000e+03, 1.09500000e+02, 1.18000000e+02,\n",
              "        8.50000000e+01, 1.02000000e+03],\n",
              "       [3.90000000e+01, 1.24500000e+00, 3.60000000e+01, 3.00000000e+00,\n",
              "        2.02000000e+01, 4.00000000e+00, 3.00000000e+00, 1.66667000e-01,\n",
              "        8.00000000e+00, 2.51679993e+00, 3.00000000e+02, 5.30000000e+01,\n",
              "        2.84000000e-01, 1.50000000e+02, 5.00000000e+00, 2.16700000e+03,\n",
              "        4.00000000e+00, 1.62900000e+03, 2.95000000e+01, 5.10000000e+01,\n",
              "        8.50000000e+01, 1.20000000e+03],\n",
              "       [2.90000000e+01, 1.42100000e+00, 3.90000000e+01, 3.00000000e+00,\n",
              "        1.73000000e+01, 1.00000000e+00, 2.00000000e+00, 1.66667000e-01,\n",
              "        4.30000000e+01, 7.86499977e-01, 1.00000000e+02, 9.50000000e+01,\n",
              "        2.67000000e-01, 5.00000000e+01, 3.00000000e+00, 1.89900000e+03,\n",
              "        8.00000000e+00, 1.35300000e+03, 5.40000000e+01, 6.50000000e+01,\n",
              "        1.06000000e+02, 9.60000000e+02],\n",
              "       [3.90000000e+01, 7.24000000e+02, 3.00000000e+01, 3.00000000e+00,\n",
              "        3.03000000e+01, 4.00000000e+00, 3.00000000e+00, 6.66670000e-02,\n",
              "        3.60000000e+01, 9.43799973e-01, 3.00000000e+02, 5.50000000e+01,\n",
              "        2.29000000e-01, 1.50000000e+02, 3.00000000e+00, 1.87500000e+03,\n",
              "        4.00000000e+00, 1.68000000e+03, 4.40000000e+01, 5.20000000e+01,\n",
              "        7.50000000e+01, 1.20000000e+03],\n",
              "       [2.90000000e+01, 7.21000000e+02, 2.80000000e+01, 3.00000000e+00,\n",
              "        3.83000000e+01, 5.00000000e+00, 3.00000000e+00, 0.00000000e+00,\n",
              "        3.80000000e+01, 9.43799973e-01, 3.00000000e+02, 5.70000000e+01,\n",
              "        7.90000000e-02, 1.50000000e+02, 5.00000000e+00, 1.75000000e+03,\n",
              "        5.00000000e+00, 1.47500000e+03, 5.40000000e+01, 7.00000000e+01,\n",
              "        7.50000000e+01, 1.14000000e+03],\n",
              "       [3.90000000e+01, 5.19000000e+02, 2.20000000e+01, 3.00000000e+00,\n",
              "        3.57000000e+01, 4.00000000e+00, 3.00000000e+00, 2.16667000e-01,\n",
              "        5.20000000e+01, 9.43799973e-01, 2.00000000e+02, 6.00000000e+01,\n",
              "        3.20000000e-01, 1.00000000e+02, 2.00000000e+00, 2.32000000e+03,\n",
              "        5.00000000e+00, 1.61900000e+03, 6.35000000e+01, 7.50000000e+01,\n",
              "        5.60000000e+01, 1.14000000e+03],\n",
              "       [3.50000000e+01, 6.69000000e+02, 3.40000000e+01, 3.00000000e+00,\n",
              "        1.73000000e+01, 6.00000000e+00, 3.00000000e+00, 0.00000000e+00,\n",
              "        2.50000000e+01, 9.43799973e-01, 1.00000000e+02, 7.00000000e+01,\n",
              "        3.90000000e-02, 5.00000000e+01, 4.00000000e+00, 2.11500000e+03,\n",
              "        6.00000000e+00, 1.78300000e+03, 4.60000000e+01, 6.70000000e+01,\n",
              "        8.50000000e+01, 1.08000000e+03],\n",
              "       [2.90000000e+01, 7.41000000e+02, 2.20000000e+01, 3.00000000e+00,\n",
              "        2.49000000e+01, 3.00000000e+00, 2.00000000e+00, 3.00000000e-01,\n",
              "        5.90000000e+01, 7.86499977e-01, 1.00000000e+02, 8.50000000e+01,\n",
              "        2.36000000e-01, 5.00000000e+01, 4.00000000e+00, 2.32600000e+03,\n",
              "        2.00000000e+00, 1.51000000e+03, 4.90000000e+01, 3.90000000e+01,\n",
              "        8.50000000e+01, 1.32000000e+03],\n",
              "       [5.60000000e+01, 4.84000000e+02, 3.80000000e+01, 3.00000000e+00,\n",
              "        2.61000000e+01, 6.00000000e+00, 7.00000000e+00, 0.00000000e+00,\n",
              "        5.00000000e+00, 9.43799973e-01, 2.00000000e+02, 8.10000000e+01,\n",
              "        8.80000000e-02, 1.00000000e+02, 2.00000000e+00, 2.50600000e+03,\n",
              "        4.00000000e+00, 1.78500000e+03, 2.90000000e+01, 5.30000000e+01,\n",
              "        7.50000000e+01, 1.20000000e+03],\n",
              "       [2.90000000e+01, 7.19000000e+02, 2.30000000e+01, 4.00000000e+00,\n",
              "        2.46000000e+01, 6.00000000e+00, 1.00000000e+00, 0.00000000e+00,\n",
              "        4.80000000e+01, 9.43799973e-01, 2.00000000e+02, 8.30000000e+01,\n",
              "        8.80000000e-02, 1.00000000e+02, 2.00000000e+00, 2.42900000e+03,\n",
              "        5.00000000e+00, 1.61600000e+03, 3.45000000e+01, 2.10000000e+01,\n",
              "        7.50000000e+01, 1.14000000e+03],\n",
              "       [3.00000000e+01, 5.03000000e+02, 2.70000000e+01, 3.00000000e+00,\n",
              "        2.58000000e+01, 5.00000000e+00, 3.00000000e+00, 1.50000000e-01,\n",
              "        8.60000000e+01, 9.43799973e-01, 2.00000000e+02, 5.80000000e+01,\n",
              "        1.56000000e-01, 1.00000000e+02, 5.00000000e+00, 2.34100000e+03,\n",
              "        5.00000000e+00, 1.68700000e+03, 6.45000000e+01, 4.30000000e+01,\n",
              "        9.40000000e+01, 1.14000000e+03],\n",
              "       [6.30000000e+01, 7.18000000e+02, 3.90000000e+01, 3.00000000e+00,\n",
              "        2.58000000e+01, 1.00000000e+00, 1.00000000e+00, 3.83333000e-01,\n",
              "        7.00000000e+00, 7.86499977e-01, 3.00000000e+02, 8.40000000e+01,\n",
              "        2.70000000e-01, 1.50000000e+02, 4.00000000e+00, 1.82700000e+03,\n",
              "        5.00000000e+00, 1.47100000e+03, 3.35000000e+01, 6.00000000e+01,\n",
              "        9.50000000e+01, 1.14000000e+03],\n",
              "       [4.20000000e+01, 7.55000000e+02, 3.10000000e+01, 2.00000000e+00,\n",
              "        2.54000000e+01, 3.00000000e+00, 2.00000000e+00, 0.00000000e+00,\n",
              "        3.50000000e+01, 7.86499977e-01, 1.00000000e+02, 8.70000000e+01,\n",
              "        1.81000000e-01, 5.00000000e+01, 3.00000000e+00, 2.19300000e+03,\n",
              "        7.00000000e+00, 1.39700000e+03, 4.05000000e+01, 4.60000000e+01,\n",
              "        6.40000000e+01, 1.02000000e+03],\n",
              "       [5.20000000e+01, 6.88000000e+02, 3.50000000e+01, 3.00000000e+00,\n",
              "        2.04000000e+01, 1.00000000e+00, 4.00000000e+00, 1.66670000e-02,\n",
              "        3.30000000e+01, 7.86499977e-01, 1.00000000e+02, 9.10000000e+01,\n",
              "        2.12000000e-01, 5.00000000e+01, 4.00000000e+00, 1.77400000e+03,\n",
              "        8.00000000e+00, 1.41700000e+03, 2.35000000e+01, 1.40000000e+01,\n",
              "        1.06000000e+02, 9.60000000e+02],\n",
              "       [3.90000000e+01, 7.08000000e+02, 3.00000000e+01, 3.00000000e+00,\n",
              "        2.47000000e+01, 6.00000000e+00, 7.00000000e+00, 8.33330000e-02,\n",
              "        5.20000000e+01, 9.43799973e-01, 2.00000000e+02, 8.20000000e+01,\n",
              "        1.35000000e-01, 1.00000000e+02, 4.00000000e+00, 1.77200000e+03,\n",
              "        5.00000000e+00, 1.26400000e+03, 3.80000000e+01, 2.40000000e+01,\n",
              "        6.60000000e+01, 1.14000000e+03],\n",
              "       [5.30000000e+01, 6.37000000e+02, 2.20000000e+01, 3.00000000e+00,\n",
              "        3.00000000e+01, 4.00000000e+00, 3.00000000e+00, 0.00000000e+00,\n",
              "        2.40000000e+01, 9.43799973e-01, 3.00000000e+02, 6.20000000e+01,\n",
              "        7.70000000e-02, 1.50000000e+02, 4.00000000e+00, 2.32300000e+03,\n",
              "        6.00000000e+00, 1.58800000e+03, 3.40000000e+01, 4.40000000e+01,\n",
              "        5.60000000e+01, 1.08000000e+03],\n",
              "       [5.70000000e+01, 6.41000000e+02, 2.10000000e+01, 3.00000000e+00,\n",
              "        2.46000000e+01, 5.00000000e+00, 3.00000000e+00, 2.16667000e-01,\n",
              "        2.20000000e+01, 9.43799973e-01, 1.00000000e+02, 6.00000000e+01,\n",
              "        2.90000000e-01, 5.00000000e+01, 4.00000000e+00, 1.77300000e+03,\n",
              "        8.00000000e+00, 1.77500000e+03, 6.10000000e+01, 1.00000000e+02,\n",
              "        1.03000000e+02, 9.60000000e+02],\n",
              "       [4.00000000e+01, 6.01000000e+02, 3.70000000e+01, 2.00000000e+00,\n",
              "        2.04000000e+01, 6.00000000e+00, 3.00000000e+00, 0.00000000e+00,\n",
              "        3.50000000e+01, 2.04489994e+00, 3.00000000e+02, 6.80000000e+01,\n",
              "        6.60000000e-02, 1.50000000e+02, 5.00000000e+00, 2.01000000e+03,\n",
              "        7.00000000e+00, 1.35000000e+03, 4.20000000e+01, 4.90000000e+01,\n",
              "        3.80000000e+01, 1.02000000e+03],\n",
              "       [4.90000000e+01, 7.31000000e+02, 3.90000000e+01, 3.00000000e+00,\n",
              "        2.46000000e+01, 6.00000000e+00, 7.00000000e+00, 2.00000000e-01,\n",
              "        4.70000000e+01, 7.86499977e-01, 1.00000000e+02, 7.10000000e+01,\n",
              "        2.15000000e-01, 5.00000000e+01, 2.00000000e+00, 2.41500000e+03,\n",
              "        4.00000000e+00, 1.62400000e+03, 6.70000000e+01, 8.70000000e+01,\n",
              "        9.40000000e+01, 1.20000000e+03],\n",
              "       [5.50000000e+01, 5.32000000e+02, 3.00000000e+01, 4.00000000e+00,\n",
              "        2.28000000e+01, 5.00000000e+00, 1.00000000e+00, 2.16667000e-01,\n",
              "        4.60000000e+01, 9.43799973e-01, 1.00000000e+02, 6.10000000e+01,\n",
              "        4.10000000e-02, 5.00000000e+01, 3.00000000e+00, 2.11400000e+03,\n",
              "        5.00000000e+00, 1.23600000e+03, 5.95000000e+01, 7.30000000e+01,\n",
              "        1.41000000e+02, 1.14000000e+03],\n",
              "       [3.90000000e+01, 7.73000000e+02, 2.90000000e+01, 3.00000000e+00,\n",
              "        2.47000000e+01, 3.00000000e+00, 2.00000000e+00, 3.83333000e-01,\n",
              "        3.50000000e+01, 7.86499977e-01, 1.00000000e+02, 8.50000000e+01,\n",
              "        2.61000000e-01, 5.00000000e+01, 5.00000000e+00, 2.50800000e+03,\n",
              "        9.00000000e+00, 1.29800000e+03, 3.80000000e+01, 4.10000000e+01,\n",
              "        8.50000000e+01, 9.00000000e+02],\n",
              "       [5.60000000e+01, 5.61000000e+02, 3.20000000e+01, 3.00000000e+00,\n",
              "        2.57000000e+01, 1.00000000e+00, 3.00000000e+00, 2.33333000e-01,\n",
              "        8.00000000e+00, 7.86499977e-01, 2.00000000e+02, 7.90000000e+01,\n",
              "        2.49000000e-01, 1.00000000e+02, 4.00000000e+00, 1.70800000e+03,\n",
              "        5.00000000e+00, 1.46900000e+03, 1.55000000e+01, 2.30000000e+01,\n",
              "        6.40000000e+01, 1.14000000e+03],\n",
              "       [4.00000000e+01, 5.62000000e+02, 2.60000000e+01, 3.00000000e+00,\n",
              "        2.20000000e+01, 1.00000000e+00, 3.00000000e+00, 3.66667000e-01,\n",
              "        1.10000000e+01, 7.86499977e-01, 1.00000000e+02, 7.70000000e+01,\n",
              "        2.05000000e-01, 5.00000000e+01, 2.00000000e+00, 2.21500000e+03,\n",
              "        3.00000000e+00, 1.44800000e+03, 9.50000000e+00, 8.00000000e+00,\n",
              "        1.27000000e+02, 1.26000000e+03],\n",
              "       [5.50000000e+01, 5.44000000e+02, 2.40000000e+01, 2.00000000e+00,\n",
              "        3.83000000e+01, 1.00000000e+00, 8.00000000e+00, 0.00000000e+00,\n",
              "        6.50000000e+01, 7.86499977e-01, 1.00000000e+02, 8.00000000e+01,\n",
              "        1.49000000e-01, 5.00000000e+01, 3.00000000e+00, 2.44800000e+03,\n",
              "        3.00000000e+00, 1.76100000e+03, 5.95000000e+01, 5.40000000e+01,\n",
              "        5.30000000e+01, 1.26000000e+03],\n",
              "       [3.90000000e+01, 7.09000000e+02, 3.10000000e+01, 3.00000000e+00,\n",
              "        2.04000000e+01, 4.00000000e+00, 5.00000000e+00, 1.66667000e-01,\n",
              "        4.40000000e+01, 2.51679993e+00, 3.00000000e+02, 5.60000000e+01,\n",
              "        3.45000000e-01, 1.50000000e+02, 5.00000000e+00, 2.03500000e+03,\n",
              "        4.00000000e+00, 1.31600000e+03, 5.15000000e+01, 5.90000000e+01,\n",
              "        8.50000000e+01, 1.20000000e+03],\n",
              "       [3.40000000e+01, 5.15000000e+02, 3.70000000e+01, 3.00000000e+00,\n",
              "        2.26000000e+01, 1.00000000e+00, 4.00000000e+00, 1.66670000e-02,\n",
              "        2.70000000e+01, 7.86499977e-01, 2.00000000e+02, 8.90000000e+01,\n",
              "        2.04000000e-01, 1.00000000e+02, 2.00000000e+00, 1.97300000e+03,\n",
              "        8.00000000e+00, 1.24000000e+03, 2.35000000e+01, 2.00000000e+01,\n",
              "        9.50000000e+01, 9.60000000e+02],\n",
              "       [3.90000000e+01, 5.18000000e+02, 2.50000000e+01, 3.00000000e+00,\n",
              "        3.30000000e+01, 1.00000000e+00, 1.00000000e+00, 5.00000000e-01,\n",
              "        3.80000000e+01, 7.86499977e-01, 1.00000000e+02, 8.60000000e+01,\n",
              "        1.83000000e-01, 5.00000000e+01, 3.00000000e+00, 1.73700000e+03,\n",
              "        6.00000000e+00, 1.56400000e+03, 5.45000000e+01, 7.10000000e+01,\n",
              "        1.27000000e+02, 1.08000000e+03],\n",
              "       [6.00000000e+01, 6.09000000e+02, 2.90000000e+01, 2.00000000e+00,\n",
              "        2.56000000e+01, 1.00000000e+00, 3.00000000e+00, 1.33333000e-01,\n",
              "        4.00000000e+01, 7.86499977e-01, 3.00000000e+02, 7.90000000e+01,\n",
              "        8.50000000e-02, 1.50000000e+02, 4.00000000e+00, 1.79000000e+03,\n",
              "        8.00000000e+00, 1.76300000e+03, 3.75000000e+01, 3.50000000e+01,\n",
              "        5.30000000e+01, 9.60000000e+02],\n",
              "       [4.30000000e+01, 7.11000000e+02, 4.00000000e+01, 5.00000000e+00,\n",
              "        2.37000000e+01, 3.00000000e+00, 2.00000000e+00, 0.00000000e+00,\n",
              "        4.00000000e+01, 7.86499977e-01, 2.00000000e+02, 8.60000000e+01,\n",
              "        1.42000000e-01, 1.00000000e+02, 5.00000000e+00, 1.86900000e+03,\n",
              "        4.00000000e+00, 1.31400000e+03, 2.45000000e+01, 9.00000000e+00,\n",
              "        1.00000000e+02, 1.20000000e+03],\n",
              "       [6.80000000e+01, 7.85000000e+02, 3.60000000e+01, 3.00000000e+00,\n",
              "        2.57000000e+01, 4.00000000e+00, 3.00000000e+00, 4.50000000e-01,\n",
              "        3.90000000e+01, 9.43799973e-01, 3.00000000e+02, 5.40000000e+01,\n",
              "        2.13000000e-01, 1.50000000e+02, 3.00000000e+00, 1.97400000e+03,\n",
              "        2.00000000e+00, 1.79500000e+03, 5.15000000e+01, 6.40000000e+01,\n",
              "        8.50000000e+01, 1.32000000e+03],\n",
              "       [1.90000000e+01, 6.77000000e+02, 2.90000000e+01, 3.00000000e+00,\n",
              "        2.44000000e+01, 1.00000000e+00, 1.00000000e+00, 0.00000000e+00,\n",
              "        2.00000000e+00, 9.43799973e-01, 1.00000000e+02, 8.60000000e+01,\n",
              "        2.15000000e-01, 5.00000000e+01, 3.00000000e+00, 2.10200000e+03,\n",
              "        5.00000000e+00, 1.53300000e+03, 2.10000000e+01, 4.00000000e+01,\n",
              "        9.40000000e+01, 1.14000000e+03],\n",
              "       [3.60000000e+01, 1.26900000e+00, 2.10000000e+01, 3.00000000e+00,\n",
              "        2.44000000e+01, 5.00000000e+00, 3.00000000e+00, 4.83333000e-01,\n",
              "        6.40000000e+01, 7.86499977e-01, 2.00000000e+02, 5.70000000e+01,\n",
              "        1.60000000e-01, 1.00000000e+02, 2.00000000e+00, 2.19900000e+03,\n",
              "        4.00000000e+00, 1.52000000e+03, 5.70000000e+01, 5.00000000e+01,\n",
              "        1.13000000e+02, 1.20000000e+03],\n",
              "       [3.90000000e+01, 4.62000000e+02, 2.40000000e+01, 3.00000000e+00,\n",
              "        1.88000000e+01, 3.00000000e+00, 2.00000000e+00, 0.00000000e+00,\n",
              "        1.50000000e+01, 7.86499977e-01, 2.00000000e+02, 8.50000000e+01,\n",
              "        1.74000000e-01, 1.00000000e+02, 2.00000000e+00, 2.10900000e+03,\n",
              "        6.00000000e+00, 1.20300000e+03, 1.15000000e+01, 8.00000000e+00,\n",
              "        8.50000000e+01, 1.08000000e+03],\n",
              "       [3.90000000e+01, 6.83000000e+02, 3.40000000e+01, 3.00000000e+00,\n",
              "        3.09000000e+01, 6.00000000e+00, 5.00000000e+00, 1.16667000e-01,\n",
              "        4.60000000e+01, 2.67409992e+00, 2.00000000e+02, 6.80000000e+01,\n",
              "        2.58000000e-01, 1.00000000e+02, 3.00000000e+00, 2.05200000e+03,\n",
              "        4.00000000e+00, 1.22000000e+03, 5.30000000e+01, 6.00000000e+01,\n",
              "        8.50000000e+01, 1.20000000e+03],\n",
              "       [4.90000000e+01, 6.31000000e+02, 3.00000000e+01, 3.00000000e+00,\n",
              "        3.17000000e+01, 4.00000000e+00, 3.00000000e+00, 0.00000000e+00,\n",
              "        3.20000000e+01, 2.04489994e+00, 3.00000000e+02, 6.40000000e+01,\n",
              "        1.39000000e-01, 1.50000000e+02, 5.00000000e+00, 2.36600000e+03,\n",
              "        5.00000000e+00, 1.53800000e+03, 2.35000000e+01, 1.50000000e+01,\n",
              "        6.60000000e+01, 1.14000000e+03],\n",
              "       [4.40000000e+01, 6.02000000e+02, 2.40000000e+01, 3.00000000e+00,\n",
              "        2.44000000e+01, 5.00000000e+00, 1.00000000e+00, 1.16667000e-01,\n",
              "        2.30000000e+01, 7.86499977e-01, 1.00000000e+02, 9.30000000e+01,\n",
              "        2.53000000e-01, 5.00000000e+01, 5.00000000e+00, 1.90800000e+03,\n",
              "        5.00000000e+00, 1.26100000e+03, 1.35000000e+01, 4.00000000e+00,\n",
              "        6.60000000e+01, 1.14000000e+03]])"
            ]
          },
          "metadata": {},
          "execution_count": 14
        }
      ]
    },
    {
      "cell_type": "code",
      "metadata": {
        "id": "OtPWYJVQUZ0H"
      },
      "source": [
        "from sklearn.metrics import accuracy_score"
      ],
      "execution_count": 15,
      "outputs": []
    },
    {
      "cell_type": "code",
      "metadata": {
        "colab": {
          "base_uri": "https://localhost:8080/"
        },
        "id": "mDjeeYJOcfRL",
        "outputId": "9eb792b6-907b-471b-b6c4-7b7787507f63"
      },
      "source": [
        "from sklearn.neighbors import KNeighborsClassifier\n",
        "classifier=KNeighborsClassifier()\n",
        "model = classifier.fit(X_train, y_train)\n",
        "predictions = model.predict(X_test)\n",
        "accuracy = accuracy_score(y_test, predictions)\n",
        "accuracy"
      ],
      "execution_count": 18,
      "outputs": [
        {
          "output_type": "execute_result",
          "data": {
            "text/plain": [
              "0.5675675675675675"
            ]
          },
          "metadata": {},
          "execution_count": 18
        }
      ]
    },
    {
      "cell_type": "code",
      "metadata": {
        "id": "Lo-NhEFocveA"
      },
      "source": [
        ""
      ],
      "execution_count": null,
      "outputs": []
    }
  ]
}